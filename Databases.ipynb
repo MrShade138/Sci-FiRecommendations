{
 "cells": [
  {
   "cell_type": "markdown",
   "id": "6d9eaa56-7646-4833-a7e3-05d2d6579f19",
   "metadata": {},
   "source": [
    "First we setup the databases and load in the raw data from the source. I have downloaded it as a zip file\n",
    "and it is unzipped in to csv files. We will load those below."
   ]
  },
  {
   "cell_type": "code",
   "execution_count": 1,
   "id": "85d8009a-6674-4300-981b-964367ad4412",
   "metadata": {},
   "outputs": [],
   "source": [
    "import pandas as pd\n",
    "import numpy as np"
   ]
  },
  {
   "cell_type": "code",
   "execution_count": 4,
   "id": "94146ece-4f2c-445a-9da6-4d2df870269e",
   "metadata": {},
   "outputs": [],
   "source": [
    "#Let's set them up as seperate databases for now.\n",
    "sf_cyberpunk = pd.read_csv('sfbooks/sf_cyberpunk.csv')\n",
    "sf_aliens = pd.read_csv('sfbooks/sf_aliens.csv')\n",
    "sf_alt_history = pd.read_csv('sfbooks/sf_alternate_history.csv')\n",
    "sf_alt_universe = pd.read_csv('sfbooks/sf_alternate_universe.csv')\n",
    "sf_apocalyptic = pd.read_csv('sfbooks/sf_apocalyptic.csv')\n",
    "sf_dystopia = pd.read_csv('sfbooks/sf_dystopia.csv')\n",
    "sf_hard = pd.read_csv('sfbooks/sf_hard.csv')\n",
    "sf_military = pd.read_csv('sfbooks/sf_military.csv')\n",
    "sf_robots = pd.read_csv('sfbooks/sf_robots.csv')\n",
    "sf_space_opera = pd.read_csv('sfbooks/sf_space_opera.csv')\n",
    "sf_steampunk = pd.read_csv('sfbooks/sf_steampunk.csv')\n",
    "sf_time_travel = pd.read_csv('sfbooks/sf_time_travel.csv')"
   ]
  },
  {
   "cell_type": "code",
   "execution_count": 7,
   "id": "d2293959-46b6-44b5-9265-b851e2c84494",
   "metadata": {},
   "outputs": [
    {
     "data": {
      "text/plain": [
       "Book_Title              object\n",
       "Original_Book_Title     object\n",
       "Author_Name             object\n",
       "Edition_Language        object\n",
       "Rating_score           float64\n",
       "Rating_votes             int64\n",
       "Review_number            int64\n",
       "Book_Description        object\n",
       "Year_published           int64\n",
       "Genres                  object\n",
       "url                     object\n",
       "dtype: object"
      ]
     },
     "execution_count": 7,
     "metadata": {},
     "output_type": "execute_result"
    }
   ],
   "source": [
    "#All our databases have the same columns\n",
    "sf_cyberpunk.dtypes"
   ]
  },
  {
   "cell_type": "markdown",
   "id": "5da42c22-5459-41fe-834d-28c094b0291e",
   "metadata": {},
   "source": [
    "##### Looking at these columns we were drawn to:\n",
    "* Author\n",
    "* Genre\n",
    "* Rating Score\n",
    "##### as our top likely predictors of recomendations. \n",
    "The data is clean and well organized so from here we will start building the algorithm"
   ]
  },
  {
   "cell_type": "code",
   "execution_count": null,
   "id": "d3e5933d-a7c1-471a-9fbf-3234d69335eb",
   "metadata": {},
   "outputs": [],
   "source": []
  }
 ],
 "metadata": {
  "kernelspec": {
   "display_name": "Python 3 (ipykernel)",
   "language": "python",
   "name": "python3"
  },
  "language_info": {
   "codemirror_mode": {
    "name": "ipython",
    "version": 3
   },
   "file_extension": ".py",
   "mimetype": "text/x-python",
   "name": "python",
   "nbconvert_exporter": "python",
   "pygments_lexer": "ipython3",
   "version": "3.12.7"
  }
 },
 "nbformat": 4,
 "nbformat_minor": 5
}
